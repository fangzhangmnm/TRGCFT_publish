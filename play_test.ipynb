{
 "cells": [
  {
   "cell_type": "code",
   "execution_count": 16,
   "metadata": {},
   "outputs": [
    {
     "name": "stdout",
     "output_type": "stream",
     "text": [
      "[GILT] Warning! float32 is not precise enough, leads to bad RG behavior\n"
     ]
    }
   ],
   "source": [
    "import importlib;importlib.reload(importlib.import_module('HOTRG'))\n",
    "from HOTRG import merge_legs_Z2\n",
    "from TNModels import Ising2D"
   ]
  },
  {
   "cell_type": "code",
   "execution_count": 17,
   "metadata": {},
   "outputs": [],
   "source": [
    "model=Ising2D()\n",
    "T0=model.get_T0()\n",
    "dimR=model.get_dimR()"
   ]
  },
  {
   "cell_type": "code",
   "execution_count": 18,
   "metadata": {},
   "outputs": [
    {
     "data": {
      "text/plain": [
       "((1, 1), (1, 1))"
      ]
     },
     "execution_count": 18,
     "metadata": {},
     "output_type": "execute_result"
    }
   ],
   "source": [
    "dimR"
   ]
  },
  {
   "cell_type": "code",
   "execution_count": 23,
   "metadata": {},
   "outputs": [
    {
     "name": "stdout",
     "output_type": "stream",
     "text": [
      "merge_legs_Z2: TODO unit test\n",
      "merge_legs_Z2: TODO unit test\n"
     ]
    }
   ],
   "source": [
    "T1,dimR1=merge_legs_Z2(T0,0,1,dimR)\n",
    "T2,dimR2=merge_legs_Z2(T1,1,2,dimR1)"
   ]
  },
  {
   "cell_type": "code",
   "execution_count": 25,
   "metadata": {},
   "outputs": [
    {
     "data": {
      "text/plain": [
       "(torch.Size([4, 2, 2]),\n",
       " ((2, 2), (1, 1), (1, 1)),\n",
       " torch.Size([4, 4]),\n",
       " ((2, 2), (2, 2)))"
      ]
     },
     "execution_count": 25,
     "metadata": {},
     "output_type": "execute_result"
    }
   ],
   "source": [
    "T1.shape,dimR1,T2.shape,dimR2"
   ]
  },
  {
   "cell_type": "code",
   "execution_count": 27,
   "metadata": {},
   "outputs": [
    {
     "data": {
      "text/plain": [
       "tensor([[[[2.4142, 0.0000],\n",
       "          [0.0000, 1.0000]],\n",
       "\n",
       "         [[0.0000, 1.0000],\n",
       "          [1.0000, 0.0000]]],\n",
       "\n",
       "\n",
       "        [[[0.0000, 1.0000],\n",
       "          [1.0000, 0.0000]],\n",
       "\n",
       "         [[1.0000, 0.0000],\n",
       "          [0.0000, 0.4142]]]])"
      ]
     },
     "execution_count": 27,
     "metadata": {},
     "output_type": "execute_result"
    }
   ],
   "source": [
    "T0"
   ]
  },
  {
   "cell_type": "code",
   "execution_count": 28,
   "metadata": {},
   "outputs": [
    {
     "data": {
      "text/plain": [
       "tensor([[2.4142, 1.0000, 0.0000, 0.0000],\n",
       "        [1.0000, 0.4142, 0.0000, 0.0000],\n",
       "        [0.0000, 0.0000, 1.0000, 1.0000],\n",
       "        [0.0000, 0.0000, 1.0000, 1.0000]])"
      ]
     },
     "execution_count": 28,
     "metadata": {},
     "output_type": "execute_result"
    }
   ],
   "source": [
    "T2"
   ]
  },
  {
   "cell_type": "code",
   "execution_count": null,
   "metadata": {},
   "outputs": [],
   "source": []
  }
 ],
 "metadata": {
  "kernelspec": {
   "display_name": "tf-gpu",
   "language": "python",
   "name": "python3"
  },
  "language_info": {
   "codemirror_mode": {
    "name": "ipython",
    "version": 3
   },
   "file_extension": ".py",
   "mimetype": "text/x-python",
   "name": "python",
   "nbconvert_exporter": "python",
   "pygments_lexer": "ipython3",
   "version": "3.9.15"
  },
  "orig_nbformat": 4
 },
 "nbformat": 4,
 "nbformat_minor": 2
}
