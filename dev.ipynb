{
 "cells": [
  {
   "cell_type": "code",
   "execution_count": 11,
   "metadata": {},
   "outputs": [],
   "source": [
    "import importlib\n",
    "importlib.reload(importlib.import_module('Z2Tensor'))\n",
    "from Z2Tensor import *"
   ]
  },
  {
   "cell_type": "code",
   "execution_count": null,
   "metadata": {},
   "outputs": [],
   "source": []
  },
  {
   "cell_type": "code",
   "execution_count": 25,
   "metadata": {},
   "outputs": [],
   "source": [
    "dimR_leg=(24,24)\n",
    "\n",
    "M=torch.zeros(sum(dimR_leg),sum(dimR_leg))\n",
    "mid=dimR_leg[0]\n",
    "M[:mid,:mid]=torch.randn(dimR_leg[0],dimR_leg[0])\n",
    "M[mid:,mid:]=torch.randn(dimR_leg[1],dimR_leg[1])\n",
    "M=M/M.norm()\n",
    "u,s,vh=svd_Z2(M,dimR_leg)"
   ]
  },
  {
   "cell_type": "code",
   "execution_count": 26,
   "metadata": {},
   "outputs": [
    {
     "data": {
      "text/plain": [
       "tensor([0.2749, 0.2463, 0.2222, 0.2132, 0.2034, 0.1900, 0.1725, 0.1640, 0.1569,\n",
       "        0.1484, 0.1406, 0.1198, 0.1103, 0.0973, 0.0766, 0.0710, 0.0637, 0.0576,\n",
       "        0.0550, 0.0489, 0.0308, 0.0224, 0.0136, 0.0012, 0.2986, 0.2546, 0.2363,\n",
       "        0.1985, 0.1934, 0.1865, 0.1691, 0.1657, 0.1491, 0.1349, 0.1310, 0.1214,\n",
       "        0.1120, 0.1081, 0.0991, 0.0805, 0.0705, 0.0661, 0.0611, 0.0444, 0.0295,\n",
       "        0.0231, 0.0154, 0.0051])"
      ]
     },
     "execution_count": 26,
     "metadata": {},
     "output_type": "execute_result"
    }
   ],
   "source": [
    "s"
   ]
  },
  {
   "cell_type": "code",
   "execution_count": 46,
   "metadata": {},
   "outputs": [],
   "source": [
    "u1,s1,vh1,dimR_leg1=truncate_svd_result_Z2(u,s,vh,dimR_leg,47)"
   ]
  },
  {
   "cell_type": "code",
   "execution_count": 47,
   "metadata": {},
   "outputs": [
    {
     "data": {
      "text/plain": [
       "(tensor([0.2749, 0.2463, 0.2222, 0.2132, 0.2034, 0.1900, 0.1725, 0.1640, 0.1569,\n",
       "         0.1484, 0.1406, 0.1198, 0.1103, 0.0973, 0.0766, 0.0710, 0.0637, 0.0576,\n",
       "         0.0550, 0.0489, 0.0308, 0.0224, 0.0136, 0.2986, 0.2546, 0.2363, 0.1985,\n",
       "         0.1934, 0.1865, 0.1691, 0.1657, 0.1491, 0.1349, 0.1310, 0.1214, 0.1120,\n",
       "         0.1081, 0.0991, 0.0805, 0.0705, 0.0661, 0.0611, 0.0444, 0.0295, 0.0231,\n",
       "         0.0154, 0.0051]),\n",
       " (23, 24))"
      ]
     },
     "execution_count": 47,
     "metadata": {},
     "output_type": "execute_result"
    }
   ],
   "source": [
    "s1,dimR_leg1"
   ]
  },
  {
   "cell_type": "code",
   "execution_count": 48,
   "metadata": {},
   "outputs": [
    {
     "data": {
      "text/plain": [
       "(tensor(0.0012), tensor(1.0000))"
      ]
     },
     "execution_count": 48,
     "metadata": {},
     "output_type": "execute_result"
    }
   ],
   "source": [
    "torch.norm(u1*s1@vh1-M),torch.norm(M)"
   ]
  },
  {
   "cell_type": "code",
   "execution_count": null,
   "metadata": {},
   "outputs": [],
   "source": []
  }
 ],
 "metadata": {
  "kernelspec": {
   "display_name": "tf-gpu",
   "language": "python",
   "name": "python3"
  },
  "language_info": {
   "codemirror_mode": {
    "name": "ipython",
    "version": 3
   },
   "file_extension": ".py",
   "mimetype": "text/x-python",
   "name": "python",
   "nbconvert_exporter": "python",
   "pygments_lexer": "ipython3",
   "version": "3.9.15"
  },
  "orig_nbformat": 4
 },
 "nbformat": 4,
 "nbformat_minor": 2
}
